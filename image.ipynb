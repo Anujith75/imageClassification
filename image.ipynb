{
  "nbformat": 4,
  "nbformat_minor": 0,
  "metadata": {
    "colab": {
      "provenance": [],
      "mount_file_id": "1py4_xBg094wOtU1Fw_jY_3bgAWVEn6-V",
      "authorship_tag": "ABX9TyOr9F55V0aIPFHZTq8mo7+b",
      "include_colab_link": true
    },
    "kernelspec": {
      "name": "python3",
      "display_name": "Python 3"
    },
    "language_info": {
      "name": "python"
    }
  },
  "cells": [
    {
      "cell_type": "markdown",
      "metadata": {
        "id": "view-in-github",
        "colab_type": "text"
      },
      "source": [
        "<a href=\"https://colab.research.google.com/github/Anujith75/imageClassification/blob/main/image.ipynb\" target=\"_parent\"><img src=\"https://colab.research.google.com/assets/colab-badge.svg\" alt=\"Open In Colab\"/></a>"
      ]
    },
    {
      "cell_type": "code",
      "execution_count": 1,
      "metadata": {
        "id": "6o1KkaSlLIw0"
      },
      "outputs": [],
      "source": [
        "import os"
      ]
    },
    {
      "cell_type": "code",
      "source": [
        "os.listdir(\"/content/drive/MyDrive/Data\")"
      ],
      "metadata": {
        "id": "soKGLynXL647",
        "colab": {
          "base_uri": "https://localhost:8080/"
        },
        "outputId": "ab6fe75e-ccd6-43b6-d21f-12603740f55e"
      },
      "execution_count": 2,
      "outputs": [
        {
          "output_type": "execute_result",
          "data": {
            "text/plain": [
              "['Cat', 'Dog', 'with_mask-20230707T062022Z-001.zip', 'mask data']"
            ]
          },
          "metadata": {},
          "execution_count": 2
        }
      ]
    },
    {
      "cell_type": "code",
      "source": [
        "os.listdir('/content/drive/MyDrive/Data/Cat')"
      ],
      "metadata": {
        "id": "fgtLCDiLMLNv",
        "colab": {
          "base_uri": "https://localhost:8080/"
        },
        "outputId": "2f4cee13-c002-40b1-deef-f5bc968053e6"
      },
      "execution_count": 3,
      "outputs": [
        {
          "output_type": "execute_result",
          "data": {
            "text/plain": [
              "['cat.10.jpg',\n",
              " 'cat.1 - Copy.jpg',\n",
              " 'cat.11.jpg',\n",
              " 'cat.14.jpg',\n",
              " 'cat.17.jpg',\n",
              " 'cat.18.jpg',\n",
              " 'cat.2 - Copy.jpg',\n",
              " 'cat.13.jpg',\n",
              " 'cat.21.jpg',\n",
              " 'cat.15.jpg',\n",
              " 'cat.16.jpg',\n",
              " 'cat.12.jpg',\n",
              " 'cat.20.jpg',\n",
              " 'cat.31.jpg',\n",
              " 'cat.27.jpg',\n",
              " 'cat.24.jpg',\n",
              " 'cat.30.jpg',\n",
              " 'cat.29.jpg',\n",
              " 'cat.3 - Copy.jpg',\n",
              " 'cat.28.jpg',\n",
              " 'cat.33.jpg',\n",
              " 'cat.37.jpg',\n",
              " 'cat.4 - Copy.jpg',\n",
              " 'cat.47.jpg',\n",
              " 'cat.39.jpg',\n",
              " 'cat.35.jpg',\n",
              " 'cat.43.jpg',\n",
              " 'cat.46.jpg',\n",
              " 'cat.53.jpg',\n",
              " 'cat.50.jpg',\n",
              " 'cat.5 - Copy.jpg',\n",
              " 'cat.49.jpg',\n",
              " 'cat.38.jpg',\n",
              " 'cat.54.jpg',\n",
              " 'cat.44.jpg',\n",
              " 'cat.32.jpg',\n",
              " 'cat.36.jpg',\n",
              " 'cat.5.jpg',\n",
              " 'cat.41.jpg',\n",
              " 'cat.48.jpg',\n",
              " 'cat.51.jpg',\n",
              " 'cat.52.jpg',\n",
              " 'cat.40.jpg',\n",
              " 'cat.42.jpg',\n",
              " 'cat.34.jpg',\n",
              " 'cat.9.jpg',\n",
              " 'cat.8.jpg',\n",
              " 'cat.7.jpg',\n",
              " 'download.jpeg',\n",
              " 'download1.jpeg',\n",
              " 'download2.jpeg',\n",
              " 'download3.jpeg',\n",
              " 'download4.jpeg',\n",
              " 'download5.jpeg',\n",
              " 'download6.jpeg',\n",
              " 'download7.jpeg',\n",
              " 'download8.jpeg',\n",
              " 'images9.jpeg',\n",
              " 'images.jpeg',\n",
              " 'downloadcat.jpeg']"
            ]
          },
          "metadata": {},
          "execution_count": 3
        }
      ]
    },
    {
      "cell_type": "code",
      "source": [
        "os.listdir('/content/drive/MyDrive/Data/Dog')"
      ],
      "metadata": {
        "id": "BN5B0Ao0MaSp",
        "colab": {
          "base_uri": "https://localhost:8080/"
        },
        "outputId": "0e7b4513-0d59-4edd-8141-b1a310d6a2cd"
      },
      "execution_count": 4,
      "outputs": [
        {
          "output_type": "execute_result",
          "data": {
            "text/plain": [
              "['dog.15.jpg',\n",
              " 'dog.14.jpg',\n",
              " 'dog.13.jpg',\n",
              " 'dog.12.jpg',\n",
              " 'dog.17.jpg',\n",
              " 'dog.16.jpg',\n",
              " 'dog.18.jpg',\n",
              " 'dog.21.jpg',\n",
              " 'dog.23.jpg',\n",
              " 'dog.19.jpg',\n",
              " 'dog.22.jpg',\n",
              " 'dog.20.jpg',\n",
              " 'dog.24.jpg',\n",
              " 'dog.30.jpg',\n",
              " 'dog.28.jpg',\n",
              " 'dog.26.jpg',\n",
              " 'dog.27.jpg',\n",
              " 'dog.33.jpg',\n",
              " 'dog.25.jpg',\n",
              " 'dog.32.jpg',\n",
              " 'dog.31.jpg',\n",
              " 'dog.34.jpg',\n",
              " 'dog.46.jpg',\n",
              " 'dog.36.jpg',\n",
              " 'dog.42.jpg',\n",
              " 'dog.39.jpg',\n",
              " 'dog.44.jpg',\n",
              " 'dog.47.jpg',\n",
              " 'dog.38.jpg',\n",
              " 'dog.55.jpg',\n",
              " 'dog.51.jpg',\n",
              " 'dog.56.jpg',\n",
              " 'dog.58.jpg',\n",
              " 'dog.40.jpg',\n",
              " 'dog.35.jpg',\n",
              " 'dog.48.jpg',\n",
              " 'dog.60.jpg',\n",
              " 'dog.45.jpg',\n",
              " 'dog.57.jpg',\n",
              " 'dog.63.jpg',\n",
              " 'dog.71.jpg',\n",
              " 'dog.70.jpg',\n",
              " 'dog.78.jpg',\n",
              " 'dog.66.jpg',\n",
              " 'dog.80.jpg',\n",
              " 'dog.79.jpg',\n",
              " 'dog.64.jpg',\n",
              " 'dog.68.jpg',\n",
              " 'dog.67.jpg',\n",
              " 'dog.82.jpg',\n",
              " 'dog.61.jpg',\n",
              " 'dog.65.jpg',\n",
              " 'dog.69.jpg',\n",
              " 'dog.76.jpg',\n",
              " 'dog.77.jpg',\n",
              " 'dog.81.jpg',\n",
              " 'download1.jpeg',\n",
              " 'download2.jpeg',\n",
              " 'download3.jpeg',\n",
              " 'download4.jpeg',\n",
              " 'download5.jpeg',\n",
              " 'download6.jpeg',\n",
              " 'images.jpeg',\n",
              " 'images1.jpeg',\n",
              " 'download7.jpeg',\n",
              " 'download8.jpeg']"
            ]
          },
          "metadata": {},
          "execution_count": 4
        }
      ]
    },
    {
      "cell_type": "code",
      "source": [
        "len(os.listdir('/content/drive/MyDrive/Data/Cat'))"
      ],
      "metadata": {
        "id": "8rhnXzfkM4MR",
        "colab": {
          "base_uri": "https://localhost:8080/"
        },
        "outputId": "6d1b57f9-cb5e-465a-afab-a867b3116ca7"
      },
      "execution_count": 5,
      "outputs": [
        {
          "output_type": "execute_result",
          "data": {
            "text/plain": [
              "60"
            ]
          },
          "metadata": {},
          "execution_count": 5
        }
      ]
    },
    {
      "cell_type": "code",
      "source": [
        "len(os.listdir('/content/drive/MyDrive/Data/Dog'))"
      ],
      "metadata": {
        "id": "kEiejFtMNBZE",
        "colab": {
          "base_uri": "https://localhost:8080/"
        },
        "outputId": "c13a08aa-ddf1-4cf2-aaa7-0211aa4a59d1"
      },
      "execution_count": 6,
      "outputs": [
        {
          "output_type": "execute_result",
          "data": {
            "text/plain": [
              "66"
            ]
          },
          "metadata": {},
          "execution_count": 6
        }
      ]
    },
    {
      "cell_type": "code",
      "source": [
        "datadir='/content/drive/MyDrive/Data'\n",
        "dogpath=os.path.join(datadir,'Dog')\n",
        "os.listdir(dogpath)"
      ],
      "metadata": {
        "id": "2UrKuVk5NTJ0",
        "colab": {
          "base_uri": "https://localhost:8080/"
        },
        "outputId": "df98d020-b901-4d7e-f79c-9caef8a16212"
      },
      "execution_count": 7,
      "outputs": [
        {
          "output_type": "execute_result",
          "data": {
            "text/plain": [
              "['dog.15.jpg',\n",
              " 'dog.14.jpg',\n",
              " 'dog.13.jpg',\n",
              " 'dog.12.jpg',\n",
              " 'dog.17.jpg',\n",
              " 'dog.16.jpg',\n",
              " 'dog.18.jpg',\n",
              " 'dog.21.jpg',\n",
              " 'dog.23.jpg',\n",
              " 'dog.19.jpg',\n",
              " 'dog.22.jpg',\n",
              " 'dog.20.jpg',\n",
              " 'dog.24.jpg',\n",
              " 'dog.30.jpg',\n",
              " 'dog.28.jpg',\n",
              " 'dog.26.jpg',\n",
              " 'dog.27.jpg',\n",
              " 'dog.33.jpg',\n",
              " 'dog.25.jpg',\n",
              " 'dog.32.jpg',\n",
              " 'dog.31.jpg',\n",
              " 'dog.34.jpg',\n",
              " 'dog.46.jpg',\n",
              " 'dog.36.jpg',\n",
              " 'dog.42.jpg',\n",
              " 'dog.39.jpg',\n",
              " 'dog.44.jpg',\n",
              " 'dog.47.jpg',\n",
              " 'dog.38.jpg',\n",
              " 'dog.55.jpg',\n",
              " 'dog.51.jpg',\n",
              " 'dog.56.jpg',\n",
              " 'dog.58.jpg',\n",
              " 'dog.40.jpg',\n",
              " 'dog.35.jpg',\n",
              " 'dog.48.jpg',\n",
              " 'dog.60.jpg',\n",
              " 'dog.45.jpg',\n",
              " 'dog.57.jpg',\n",
              " 'dog.63.jpg',\n",
              " 'dog.71.jpg',\n",
              " 'dog.70.jpg',\n",
              " 'dog.78.jpg',\n",
              " 'dog.66.jpg',\n",
              " 'dog.80.jpg',\n",
              " 'dog.79.jpg',\n",
              " 'dog.64.jpg',\n",
              " 'dog.68.jpg',\n",
              " 'dog.67.jpg',\n",
              " 'dog.82.jpg',\n",
              " 'dog.61.jpg',\n",
              " 'dog.65.jpg',\n",
              " 'dog.69.jpg',\n",
              " 'dog.76.jpg',\n",
              " 'dog.77.jpg',\n",
              " 'dog.81.jpg',\n",
              " 'download1.jpeg',\n",
              " 'download2.jpeg',\n",
              " 'download3.jpeg',\n",
              " 'download4.jpeg',\n",
              " 'download5.jpeg',\n",
              " 'download6.jpeg',\n",
              " 'images.jpeg',\n",
              " 'images1.jpeg',\n",
              " 'download7.jpeg',\n",
              " 'download8.jpeg']"
            ]
          },
          "metadata": {},
          "execution_count": 7
        }
      ]
    },
    {
      "cell_type": "code",
      "source": [
        "catpath=os.path.join(datadir,'Cat')\n",
        "os.listdir(catpath)"
      ],
      "metadata": {
        "id": "Avbqm2VdOWgI",
        "colab": {
          "base_uri": "https://localhost:8080/"
        },
        "outputId": "dc0e45e1-c0d1-4bef-cf04-37b07acffe3a"
      },
      "execution_count": 8,
      "outputs": [
        {
          "output_type": "execute_result",
          "data": {
            "text/plain": [
              "['cat.10.jpg',\n",
              " 'cat.1 - Copy.jpg',\n",
              " 'cat.11.jpg',\n",
              " 'cat.14.jpg',\n",
              " 'cat.17.jpg',\n",
              " 'cat.18.jpg',\n",
              " 'cat.2 - Copy.jpg',\n",
              " 'cat.13.jpg',\n",
              " 'cat.21.jpg',\n",
              " 'cat.15.jpg',\n",
              " 'cat.16.jpg',\n",
              " 'cat.12.jpg',\n",
              " 'cat.20.jpg',\n",
              " 'cat.31.jpg',\n",
              " 'cat.27.jpg',\n",
              " 'cat.24.jpg',\n",
              " 'cat.30.jpg',\n",
              " 'cat.29.jpg',\n",
              " 'cat.3 - Copy.jpg',\n",
              " 'cat.28.jpg',\n",
              " 'cat.33.jpg',\n",
              " 'cat.37.jpg',\n",
              " 'cat.4 - Copy.jpg',\n",
              " 'cat.47.jpg',\n",
              " 'cat.39.jpg',\n",
              " 'cat.35.jpg',\n",
              " 'cat.43.jpg',\n",
              " 'cat.46.jpg',\n",
              " 'cat.53.jpg',\n",
              " 'cat.50.jpg',\n",
              " 'cat.5 - Copy.jpg',\n",
              " 'cat.49.jpg',\n",
              " 'cat.38.jpg',\n",
              " 'cat.54.jpg',\n",
              " 'cat.44.jpg',\n",
              " 'cat.32.jpg',\n",
              " 'cat.36.jpg',\n",
              " 'cat.5.jpg',\n",
              " 'cat.41.jpg',\n",
              " 'cat.48.jpg',\n",
              " 'cat.51.jpg',\n",
              " 'cat.52.jpg',\n",
              " 'cat.40.jpg',\n",
              " 'cat.42.jpg',\n",
              " 'cat.34.jpg',\n",
              " 'cat.9.jpg',\n",
              " 'cat.8.jpg',\n",
              " 'cat.7.jpg',\n",
              " 'download.jpeg',\n",
              " 'download1.jpeg',\n",
              " 'download2.jpeg',\n",
              " 'download3.jpeg',\n",
              " 'download4.jpeg',\n",
              " 'download5.jpeg',\n",
              " 'download6.jpeg',\n",
              " 'download7.jpeg',\n",
              " 'download8.jpeg',\n",
              " 'images9.jpeg',\n",
              " 'images.jpeg',\n",
              " 'downloadcat.jpeg']"
            ]
          },
          "metadata": {},
          "execution_count": 8
        }
      ]
    },
    {
      "cell_type": "code",
      "source": [
        "datadir='/content/drive/MyDrive/Data'\n",
        "subfolder=os.listdir(datadir)\n",
        "print(subfolder)\n",
        "for i in subfolder:\n",
        "  sub_path=os.path.join(datadir,i)\n",
        "  print(sub_path)\n",
        "  print(os.listdir(sub_path))\n",
        "  for images in os.listdir(sub_path):\n",
        "    listpath=os.path.join(sub_path,images)\n",
        "    print(os.path.join(sub_path,images))"
      ],
      "metadata": {
        "id": "UfDw5yDKOtUN",
        "colab": {
          "base_uri": "https://localhost:8080/",
          "height": 1000
        },
        "outputId": "9aa0f1da-2c8a-4157-e9b5-4453d91aa514"
      },
      "execution_count": 9,
      "outputs": [
        {
          "output_type": "stream",
          "name": "stdout",
          "text": [
            "['Cat', 'Dog', 'with_mask-20230707T062022Z-001.zip', 'mask data']\n",
            "/content/drive/MyDrive/Data/Cat\n",
            "['cat.10.jpg', 'cat.1 - Copy.jpg', 'cat.11.jpg', 'cat.14.jpg', 'cat.17.jpg', 'cat.18.jpg', 'cat.2 - Copy.jpg', 'cat.13.jpg', 'cat.21.jpg', 'cat.15.jpg', 'cat.16.jpg', 'cat.12.jpg', 'cat.20.jpg', 'cat.31.jpg', 'cat.27.jpg', 'cat.24.jpg', 'cat.30.jpg', 'cat.29.jpg', 'cat.3 - Copy.jpg', 'cat.28.jpg', 'cat.33.jpg', 'cat.37.jpg', 'cat.4 - Copy.jpg', 'cat.47.jpg', 'cat.39.jpg', 'cat.35.jpg', 'cat.43.jpg', 'cat.46.jpg', 'cat.53.jpg', 'cat.50.jpg', 'cat.5 - Copy.jpg', 'cat.49.jpg', 'cat.38.jpg', 'cat.54.jpg', 'cat.44.jpg', 'cat.32.jpg', 'cat.36.jpg', 'cat.5.jpg', 'cat.41.jpg', 'cat.48.jpg', 'cat.51.jpg', 'cat.52.jpg', 'cat.40.jpg', 'cat.42.jpg', 'cat.34.jpg', 'cat.9.jpg', 'cat.8.jpg', 'cat.7.jpg', 'download.jpeg', 'download1.jpeg', 'download2.jpeg', 'download3.jpeg', 'download4.jpeg', 'download5.jpeg', 'download6.jpeg', 'download7.jpeg', 'download8.jpeg', 'images9.jpeg', 'images.jpeg', 'downloadcat.jpeg']\n",
            "/content/drive/MyDrive/Data/Cat/cat.10.jpg\n",
            "/content/drive/MyDrive/Data/Cat/cat.1 - Copy.jpg\n",
            "/content/drive/MyDrive/Data/Cat/cat.11.jpg\n",
            "/content/drive/MyDrive/Data/Cat/cat.14.jpg\n",
            "/content/drive/MyDrive/Data/Cat/cat.17.jpg\n",
            "/content/drive/MyDrive/Data/Cat/cat.18.jpg\n",
            "/content/drive/MyDrive/Data/Cat/cat.2 - Copy.jpg\n",
            "/content/drive/MyDrive/Data/Cat/cat.13.jpg\n",
            "/content/drive/MyDrive/Data/Cat/cat.21.jpg\n",
            "/content/drive/MyDrive/Data/Cat/cat.15.jpg\n",
            "/content/drive/MyDrive/Data/Cat/cat.16.jpg\n",
            "/content/drive/MyDrive/Data/Cat/cat.12.jpg\n",
            "/content/drive/MyDrive/Data/Cat/cat.20.jpg\n",
            "/content/drive/MyDrive/Data/Cat/cat.31.jpg\n",
            "/content/drive/MyDrive/Data/Cat/cat.27.jpg\n",
            "/content/drive/MyDrive/Data/Cat/cat.24.jpg\n",
            "/content/drive/MyDrive/Data/Cat/cat.30.jpg\n",
            "/content/drive/MyDrive/Data/Cat/cat.29.jpg\n",
            "/content/drive/MyDrive/Data/Cat/cat.3 - Copy.jpg\n",
            "/content/drive/MyDrive/Data/Cat/cat.28.jpg\n",
            "/content/drive/MyDrive/Data/Cat/cat.33.jpg\n",
            "/content/drive/MyDrive/Data/Cat/cat.37.jpg\n",
            "/content/drive/MyDrive/Data/Cat/cat.4 - Copy.jpg\n",
            "/content/drive/MyDrive/Data/Cat/cat.47.jpg\n",
            "/content/drive/MyDrive/Data/Cat/cat.39.jpg\n",
            "/content/drive/MyDrive/Data/Cat/cat.35.jpg\n",
            "/content/drive/MyDrive/Data/Cat/cat.43.jpg\n",
            "/content/drive/MyDrive/Data/Cat/cat.46.jpg\n",
            "/content/drive/MyDrive/Data/Cat/cat.53.jpg\n",
            "/content/drive/MyDrive/Data/Cat/cat.50.jpg\n",
            "/content/drive/MyDrive/Data/Cat/cat.5 - Copy.jpg\n",
            "/content/drive/MyDrive/Data/Cat/cat.49.jpg\n",
            "/content/drive/MyDrive/Data/Cat/cat.38.jpg\n",
            "/content/drive/MyDrive/Data/Cat/cat.54.jpg\n",
            "/content/drive/MyDrive/Data/Cat/cat.44.jpg\n",
            "/content/drive/MyDrive/Data/Cat/cat.32.jpg\n",
            "/content/drive/MyDrive/Data/Cat/cat.36.jpg\n",
            "/content/drive/MyDrive/Data/Cat/cat.5.jpg\n",
            "/content/drive/MyDrive/Data/Cat/cat.41.jpg\n",
            "/content/drive/MyDrive/Data/Cat/cat.48.jpg\n",
            "/content/drive/MyDrive/Data/Cat/cat.51.jpg\n",
            "/content/drive/MyDrive/Data/Cat/cat.52.jpg\n",
            "/content/drive/MyDrive/Data/Cat/cat.40.jpg\n",
            "/content/drive/MyDrive/Data/Cat/cat.42.jpg\n",
            "/content/drive/MyDrive/Data/Cat/cat.34.jpg\n",
            "/content/drive/MyDrive/Data/Cat/cat.9.jpg\n",
            "/content/drive/MyDrive/Data/Cat/cat.8.jpg\n",
            "/content/drive/MyDrive/Data/Cat/cat.7.jpg\n",
            "/content/drive/MyDrive/Data/Cat/download.jpeg\n",
            "/content/drive/MyDrive/Data/Cat/download1.jpeg\n",
            "/content/drive/MyDrive/Data/Cat/download2.jpeg\n",
            "/content/drive/MyDrive/Data/Cat/download3.jpeg\n",
            "/content/drive/MyDrive/Data/Cat/download4.jpeg\n",
            "/content/drive/MyDrive/Data/Cat/download5.jpeg\n",
            "/content/drive/MyDrive/Data/Cat/download6.jpeg\n",
            "/content/drive/MyDrive/Data/Cat/download7.jpeg\n",
            "/content/drive/MyDrive/Data/Cat/download8.jpeg\n",
            "/content/drive/MyDrive/Data/Cat/images9.jpeg\n",
            "/content/drive/MyDrive/Data/Cat/images.jpeg\n",
            "/content/drive/MyDrive/Data/Cat/downloadcat.jpeg\n",
            "/content/drive/MyDrive/Data/Dog\n",
            "['dog.15.jpg', 'dog.14.jpg', 'dog.13.jpg', 'dog.12.jpg', 'dog.17.jpg', 'dog.16.jpg', 'dog.18.jpg', 'dog.21.jpg', 'dog.23.jpg', 'dog.19.jpg', 'dog.22.jpg', 'dog.20.jpg', 'dog.24.jpg', 'dog.30.jpg', 'dog.28.jpg', 'dog.26.jpg', 'dog.27.jpg', 'dog.33.jpg', 'dog.25.jpg', 'dog.32.jpg', 'dog.31.jpg', 'dog.34.jpg', 'dog.46.jpg', 'dog.36.jpg', 'dog.42.jpg', 'dog.39.jpg', 'dog.44.jpg', 'dog.47.jpg', 'dog.38.jpg', 'dog.55.jpg', 'dog.51.jpg', 'dog.56.jpg', 'dog.58.jpg', 'dog.40.jpg', 'dog.35.jpg', 'dog.48.jpg', 'dog.60.jpg', 'dog.45.jpg', 'dog.57.jpg', 'dog.63.jpg', 'dog.71.jpg', 'dog.70.jpg', 'dog.78.jpg', 'dog.66.jpg', 'dog.80.jpg', 'dog.79.jpg', 'dog.64.jpg', 'dog.68.jpg', 'dog.67.jpg', 'dog.82.jpg', 'dog.61.jpg', 'dog.65.jpg', 'dog.69.jpg', 'dog.76.jpg', 'dog.77.jpg', 'dog.81.jpg', 'download1.jpeg', 'download2.jpeg', 'download3.jpeg', 'download4.jpeg', 'download5.jpeg', 'download6.jpeg', 'images.jpeg', 'images1.jpeg', 'download7.jpeg', 'download8.jpeg']\n",
            "/content/drive/MyDrive/Data/Dog/dog.15.jpg\n",
            "/content/drive/MyDrive/Data/Dog/dog.14.jpg\n",
            "/content/drive/MyDrive/Data/Dog/dog.13.jpg\n",
            "/content/drive/MyDrive/Data/Dog/dog.12.jpg\n",
            "/content/drive/MyDrive/Data/Dog/dog.17.jpg\n",
            "/content/drive/MyDrive/Data/Dog/dog.16.jpg\n",
            "/content/drive/MyDrive/Data/Dog/dog.18.jpg\n",
            "/content/drive/MyDrive/Data/Dog/dog.21.jpg\n",
            "/content/drive/MyDrive/Data/Dog/dog.23.jpg\n",
            "/content/drive/MyDrive/Data/Dog/dog.19.jpg\n",
            "/content/drive/MyDrive/Data/Dog/dog.22.jpg\n",
            "/content/drive/MyDrive/Data/Dog/dog.20.jpg\n",
            "/content/drive/MyDrive/Data/Dog/dog.24.jpg\n",
            "/content/drive/MyDrive/Data/Dog/dog.30.jpg\n",
            "/content/drive/MyDrive/Data/Dog/dog.28.jpg\n",
            "/content/drive/MyDrive/Data/Dog/dog.26.jpg\n",
            "/content/drive/MyDrive/Data/Dog/dog.27.jpg\n",
            "/content/drive/MyDrive/Data/Dog/dog.33.jpg\n",
            "/content/drive/MyDrive/Data/Dog/dog.25.jpg\n",
            "/content/drive/MyDrive/Data/Dog/dog.32.jpg\n",
            "/content/drive/MyDrive/Data/Dog/dog.31.jpg\n",
            "/content/drive/MyDrive/Data/Dog/dog.34.jpg\n",
            "/content/drive/MyDrive/Data/Dog/dog.46.jpg\n",
            "/content/drive/MyDrive/Data/Dog/dog.36.jpg\n",
            "/content/drive/MyDrive/Data/Dog/dog.42.jpg\n",
            "/content/drive/MyDrive/Data/Dog/dog.39.jpg\n",
            "/content/drive/MyDrive/Data/Dog/dog.44.jpg\n",
            "/content/drive/MyDrive/Data/Dog/dog.47.jpg\n",
            "/content/drive/MyDrive/Data/Dog/dog.38.jpg\n",
            "/content/drive/MyDrive/Data/Dog/dog.55.jpg\n",
            "/content/drive/MyDrive/Data/Dog/dog.51.jpg\n",
            "/content/drive/MyDrive/Data/Dog/dog.56.jpg\n",
            "/content/drive/MyDrive/Data/Dog/dog.58.jpg\n",
            "/content/drive/MyDrive/Data/Dog/dog.40.jpg\n",
            "/content/drive/MyDrive/Data/Dog/dog.35.jpg\n",
            "/content/drive/MyDrive/Data/Dog/dog.48.jpg\n",
            "/content/drive/MyDrive/Data/Dog/dog.60.jpg\n",
            "/content/drive/MyDrive/Data/Dog/dog.45.jpg\n",
            "/content/drive/MyDrive/Data/Dog/dog.57.jpg\n",
            "/content/drive/MyDrive/Data/Dog/dog.63.jpg\n",
            "/content/drive/MyDrive/Data/Dog/dog.71.jpg\n",
            "/content/drive/MyDrive/Data/Dog/dog.70.jpg\n",
            "/content/drive/MyDrive/Data/Dog/dog.78.jpg\n",
            "/content/drive/MyDrive/Data/Dog/dog.66.jpg\n",
            "/content/drive/MyDrive/Data/Dog/dog.80.jpg\n",
            "/content/drive/MyDrive/Data/Dog/dog.79.jpg\n",
            "/content/drive/MyDrive/Data/Dog/dog.64.jpg\n",
            "/content/drive/MyDrive/Data/Dog/dog.68.jpg\n",
            "/content/drive/MyDrive/Data/Dog/dog.67.jpg\n",
            "/content/drive/MyDrive/Data/Dog/dog.82.jpg\n",
            "/content/drive/MyDrive/Data/Dog/dog.61.jpg\n",
            "/content/drive/MyDrive/Data/Dog/dog.65.jpg\n",
            "/content/drive/MyDrive/Data/Dog/dog.69.jpg\n",
            "/content/drive/MyDrive/Data/Dog/dog.76.jpg\n",
            "/content/drive/MyDrive/Data/Dog/dog.77.jpg\n",
            "/content/drive/MyDrive/Data/Dog/dog.81.jpg\n",
            "/content/drive/MyDrive/Data/Dog/download1.jpeg\n",
            "/content/drive/MyDrive/Data/Dog/download2.jpeg\n",
            "/content/drive/MyDrive/Data/Dog/download3.jpeg\n",
            "/content/drive/MyDrive/Data/Dog/download4.jpeg\n",
            "/content/drive/MyDrive/Data/Dog/download5.jpeg\n",
            "/content/drive/MyDrive/Data/Dog/download6.jpeg\n",
            "/content/drive/MyDrive/Data/Dog/images.jpeg\n",
            "/content/drive/MyDrive/Data/Dog/images1.jpeg\n",
            "/content/drive/MyDrive/Data/Dog/download7.jpeg\n",
            "/content/drive/MyDrive/Data/Dog/download8.jpeg\n",
            "/content/drive/MyDrive/Data/with_mask-20230707T062022Z-001.zip\n"
          ]
        },
        {
          "output_type": "error",
          "ename": "NotADirectoryError",
          "evalue": "ignored",
          "traceback": [
            "\u001b[0;31m---------------------------------------------------------------------------\u001b[0m",
            "\u001b[0;31mNotADirectoryError\u001b[0m                        Traceback (most recent call last)",
            "\u001b[0;32m<ipython-input-9-f5277e3084b3>\u001b[0m in \u001b[0;36m<cell line: 4>\u001b[0;34m()\u001b[0m\n\u001b[1;32m      5\u001b[0m   \u001b[0msub_path\u001b[0m\u001b[0;34m=\u001b[0m\u001b[0mos\u001b[0m\u001b[0;34m.\u001b[0m\u001b[0mpath\u001b[0m\u001b[0;34m.\u001b[0m\u001b[0mjoin\u001b[0m\u001b[0;34m(\u001b[0m\u001b[0mdatadir\u001b[0m\u001b[0;34m,\u001b[0m\u001b[0mi\u001b[0m\u001b[0;34m)\u001b[0m\u001b[0;34m\u001b[0m\u001b[0;34m\u001b[0m\u001b[0m\n\u001b[1;32m      6\u001b[0m   \u001b[0mprint\u001b[0m\u001b[0;34m(\u001b[0m\u001b[0msub_path\u001b[0m\u001b[0;34m)\u001b[0m\u001b[0;34m\u001b[0m\u001b[0;34m\u001b[0m\u001b[0m\n\u001b[0;32m----> 7\u001b[0;31m   \u001b[0mprint\u001b[0m\u001b[0;34m(\u001b[0m\u001b[0mos\u001b[0m\u001b[0;34m.\u001b[0m\u001b[0mlistdir\u001b[0m\u001b[0;34m(\u001b[0m\u001b[0msub_path\u001b[0m\u001b[0;34m)\u001b[0m\u001b[0;34m)\u001b[0m\u001b[0;34m\u001b[0m\u001b[0;34m\u001b[0m\u001b[0m\n\u001b[0m\u001b[1;32m      8\u001b[0m   \u001b[0;32mfor\u001b[0m \u001b[0mimages\u001b[0m \u001b[0;32min\u001b[0m \u001b[0mos\u001b[0m\u001b[0;34m.\u001b[0m\u001b[0mlistdir\u001b[0m\u001b[0;34m(\u001b[0m\u001b[0msub_path\u001b[0m\u001b[0;34m)\u001b[0m\u001b[0;34m:\u001b[0m\u001b[0;34m\u001b[0m\u001b[0;34m\u001b[0m\u001b[0m\n\u001b[1;32m      9\u001b[0m     \u001b[0mlistpath\u001b[0m\u001b[0;34m=\u001b[0m\u001b[0mos\u001b[0m\u001b[0;34m.\u001b[0m\u001b[0mpath\u001b[0m\u001b[0;34m.\u001b[0m\u001b[0mjoin\u001b[0m\u001b[0;34m(\u001b[0m\u001b[0msub_path\u001b[0m\u001b[0;34m,\u001b[0m\u001b[0mimages\u001b[0m\u001b[0;34m)\u001b[0m\u001b[0;34m\u001b[0m\u001b[0;34m\u001b[0m\u001b[0m\n",
            "\u001b[0;31mNotADirectoryError\u001b[0m: [Errno 20] Not a directory: '/content/drive/MyDrive/Data/with_mask-20230707T062022Z-001.zip'"
          ]
        }
      ]
    },
    {
      "cell_type": "code",
      "source": [
        "import pandas as pd\n",
        "import matplotlib.pyplot as plt\n",
        "from skimage.transform import resize\n",
        "from skimage.io import imread\n",
        "from sklearn.svm import SVC\n",
        "from sklearn.model_selection import train_test_split\n",
        "from sklearn.metrics import classification_report,ConfusionMatrixDisplay"
      ],
      "metadata": {
        "id": "6ddPaPhz8CuJ"
      },
      "execution_count": null,
      "outputs": []
    },
    {
      "cell_type": "code",
      "source": [
        "img=imread('/content/drive/MyDrive/Data/Cat/cat.12.jpg')\n",
        "img"
      ],
      "metadata": {
        "id": "pOzr437C9HW-"
      },
      "execution_count": null,
      "outputs": []
    },
    {
      "cell_type": "code",
      "source": [
        "data_array=[]\n",
        "target_array=[]\n",
        "Categories=['Cat','Dog']\n",
        "datadir='/content/drive/MyDrive/Data'\n",
        "for i in Categories:    #cat\n",
        "  sub_path=os.path.join(datadir,i)\n",
        "  images=os.listdir(sub_path)\n",
        "  for img in images:\n",
        "    img_path=os.path.join(sub_path,img)\n",
        "    img_array=imread(img_path)\n",
        "    img_resized=resize(img_array,(150,150,3))\n",
        "    data_array.append(img_resized.flatten())\n",
        "    target_array.append(Categories.index(i))\n",
        "  print('Loaded Catergories:',i)\n"
      ],
      "metadata": {
        "id": "vskR217A-MQo"
      },
      "execution_count": null,
      "outputs": []
    },
    {
      "cell_type": "code",
      "source": [
        "import numpy as np"
      ],
      "metadata": {
        "id": "YEZhKXq0DPwI"
      },
      "execution_count": null,
      "outputs": []
    },
    {
      "cell_type": "code",
      "source": [
        "data=np.array(data_array)\n",
        "data.shape"
      ],
      "metadata": {
        "id": "8s04GzG2Dsbt"
      },
      "execution_count": null,
      "outputs": []
    },
    {
      "cell_type": "code",
      "source": [
        "target=np.array(target_array)\n",
        "target.shape"
      ],
      "metadata": {
        "id": "lcIkVa-yGk0P"
      },
      "execution_count": null,
      "outputs": []
    },
    {
      "cell_type": "code",
      "source": [
        "df=pd.DataFrame(data)\n",
        "df"
      ],
      "metadata": {
        "id": "OBzSpY3XF5Lc"
      },
      "execution_count": null,
      "outputs": []
    },
    {
      "cell_type": "code",
      "source": [
        "df['target']=target\n",
        "df"
      ],
      "metadata": {
        "id": "nh9Mb0XqGdo-"
      },
      "execution_count": null,
      "outputs": []
    },
    {
      "cell_type": "code",
      "source": [
        "X=df.iloc[:,:-1]\n",
        "y=df.iloc[:,-1]\n"
      ],
      "metadata": {
        "id": "lCdCcK1NHBSB"
      },
      "execution_count": null,
      "outputs": []
    },
    {
      "cell_type": "code",
      "source": [
        "X_train,X_test,y_train,y_test=train_test_split(X,y,test_size=0.3,random_state=1)"
      ],
      "metadata": {
        "id": "SqohqQjoHLcm"
      },
      "execution_count": null,
      "outputs": []
    },
    {
      "cell_type": "code",
      "source": [
        "sv=SVC(kernel='poly')\n",
        "sv.fit(X_train,y_train)\n",
        "y_pred=sv.predict(X_test)\n",
        "print(classification_report(y_test,y_pred))\n",
        "print(ConfusionMatrixDisplay.from_predictions(y_test,y_pred))"
      ],
      "metadata": {
        "id": "6G0SpF5vHcJe"
      },
      "execution_count": null,
      "outputs": []
    },
    {
      "cell_type": "code",
      "source": [
        "new=imread('/content/Best-Dog-Images-Wallpaper-Pics-Download.jpg')\n",
        "plt.imshow(new)"
      ],
      "metadata": {
        "id": "-zEuTOLKJ0yG"
      },
      "execution_count": null,
      "outputs": []
    },
    {
      "cell_type": "code",
      "source": [
        "new=resize(new,(150,150,3))\n",
        "newimg=new.flatten()\n",
        "newimg=newimg.reshape(1,-1)\n",
        "newimg.shape"
      ],
      "metadata": {
        "id": "e4bni2DqL1ti"
      },
      "execution_count": null,
      "outputs": []
    },
    {
      "cell_type": "code",
      "source": [
        "y=sv.predict(newimg)\n",
        "if y==0:\n",
        "  print('CAT')\n",
        "else:\n",
        "  print(\"DOG\")"
      ],
      "metadata": {
        "id": "LTQ18trCMzv0"
      },
      "execution_count": null,
      "outputs": []
    },
    {
      "cell_type": "code",
      "source": [
        "new1=imread('/content/red-white-cat-i-white-studio.jpg')\n",
        "plt.imshow(new1)"
      ],
      "metadata": {
        "id": "MVg4N_tGqYDq"
      },
      "execution_count": null,
      "outputs": []
    },
    {
      "cell_type": "code",
      "source": [
        "new1=resize(new1,(150,150,3))\n",
        "newimg=new.flatten()\n",
        "newimg=newimg.reshape(1,-1)\n",
        "newimg.shape"
      ],
      "metadata": {
        "id": "zEEGJkJVqdtU"
      },
      "execution_count": null,
      "outputs": []
    },
    {
      "cell_type": "code",
      "source": [
        "y=sv.predict(newimg)\n",
        "if y==0:\n",
        "  print('CAT')\n",
        "else:\n",
        "  print(\"DOG\")"
      ],
      "metadata": {
        "id": "ccfTS0qPqfOE"
      },
      "execution_count": null,
      "outputs": []
    }
  ]
}